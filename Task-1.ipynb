{
 "cells": [
  {
   "cell_type": "markdown",
   "metadata": {},
   "source": [
    "### Task-1 Summarization of 'Crime and Punishment' Book"
   ]
  },
  {
   "cell_type": "code",
   "execution_count": 52,
   "metadata": {},
   "outputs": [],
   "source": [
    "#Necessary Imports\n",
    "import os\n",
    "import nltk,string,re\n",
    "import openai\n",
    "from fpdf import FPDF\n",
    "from dotenv import load_dotenv\n",
    "from langchain.document_loaders import PyPDFLoader\n",
    "from langchain.vectorstores import Chroma\n",
    "from langchain.text_splitter import RecursiveCharacterTextSplitter,CharacterTextSplitter\n",
    "from langchain.chains.llm import LLMChain\n",
    "from langchain_core.prompts import PromptTemplate\n",
    "from langchain.chains import MapReduceDocumentsChain, ReduceDocumentsChain\n",
    "from langchain.chains.combine_documents.stuff import StuffDocumentsChain\n",
    "from langchain_openai import ChatOpenAI"
   ]
  },
  {
   "cell_type": "code",
   "execution_count": 53,
   "metadata": {},
   "outputs": [
    {
     "data": {
      "text/plain": [
       "True"
      ]
     },
     "execution_count": 53,
     "metadata": {},
     "output_type": "execute_result"
    }
   ],
   "source": [
    "load_dotenv()"
   ]
  },
  {
   "cell_type": "markdown",
   "metadata": {},
   "source": [
    "### Preprocess The Text"
   ]
  },
  {
   "cell_type": "code",
   "execution_count": 54,
   "metadata": {},
   "outputs": [
    {
     "name": "stderr",
     "output_type": "stream",
     "text": [
      "[nltk_data] Downloading package punkt to\n",
      "[nltk_data]     C:\\Users\\Shaheer\\AppData\\Roaming\\nltk_data...\n",
      "[nltk_data]   Package punkt is already up-to-date!\n"
     ]
    },
    {
     "data": {
      "text/plain": [
       "True"
      ]
     },
     "execution_count": 54,
     "metadata": {},
     "output_type": "execute_result"
    }
   ],
   "source": [
    "# Download NLTK punkt package\n",
    "nltk.download('punkt')"
   ]
  },
  {
   "cell_type": "code",
   "execution_count": 55,
   "metadata": {},
   "outputs": [],
   "source": [
    "def preprocess_text(text):\n",
    "    # Convert text to lowercase\n",
    "    text = text.lower()\n",
    "    # Remove the non-text elements (URLs, email addresses)\n",
    "    text = re.sub(r'\\S*@\\S*\\s?', '', text)\n",
    "    text = re.sub(r'http\\S+', '', text)\n",
    "    # Remove the punctuations\n",
    "    text = text.translate(str.maketrans('', '', string.punctuation))\n",
    "    # Fix common OCR errors\n",
    "    text = re.sub(r'\\x18', '', text)\n",
    "    text = re.sub(r'\\n', ' ', text)\n",
    "    return text"
   ]
  },
  {
   "cell_type": "markdown",
   "metadata": {},
   "source": [
    "### Loading the Book"
   ]
  },
  {
   "cell_type": "code",
   "execution_count": 56,
   "metadata": {},
   "outputs": [],
   "source": [
    "#This function will extract the text from the book\n",
    "def extract_text_from_book(file_path):\n",
    "    text = \"\"\n",
    "    loader = PyPDFLoader(file_path)\n",
    "    pages = loader.load()\n",
    "    for page in pages:\n",
    "        page.page_content = preprocess_text(page.page_content)\n",
    "    return pages  ##Preprocessed text will be returned"
   ]
  },
  {
   "cell_type": "code",
   "execution_count": 57,
   "metadata": {},
   "outputs": [],
   "source": [
    "file_path= r'C:\\Users\\Shaheer\\Desktop\\Cogent-Labs-Assessment\\Task-1\\crime-and-punishment.pdf'  #file path of the book\n",
    "book_text = extract_text_from_book(file_path)"
   ]
  },
  {
   "cell_type": "code",
   "execution_count": 77,
   "metadata": {},
   "outputs": [
    {
     "data": {
      "text/plain": [
       "[Document(metadata={'source': 'C:\\\\Users\\\\Shaheer\\\\Desktop\\\\Cogent-Labs-Assessment\\\\Task-1\\\\crime-and-punishment.pdf', 'page': 0}, page_content='download free ebooks of classic literature books and  novels at planet ebook subscribe to our free ebooks blog  and email newslettercrime and punishment by fyodor dostoevsky '),\n",
       " Document(metadata={'source': 'C:\\\\Users\\\\Shaheer\\\\Desktop\\\\Cogent-Labs-Assessment\\\\Task-1\\\\crime-and-punishment.pdf', 'page': 1}, page_content='crime and punishment translator’s preface a few words about dostoevsky himself may help the eng  lish reader to understand his work dostoevsky was the son of a doctor his parents were  very hard working and deeply religious people but so poor  that they lived with their five children in only two rooms  the father and mother spent their evenings in reading aloud  to their children generally from books of a serious charac  ter though always sickly and delicate dostoevsky came out  third in the final examination of the petersburg school of  engineering there he had already begun his first work  ‘poor folk’ this story was published by the poet nekrassov in his  review and was received with acclamations the shy un  known youth found himself instantly something of a  celebrity a brilliant and successful career seemed to open  before him but those hopes were soon dashed in 1849 he  was arrested though neither by temperament nor conviction a revolu  tionist dostoevsky was one of a little group of young men  who met together to read fourier and proudhon he was ac  cused of ‘taking part in conversations against the censorship  of reading a letter from byelinsky to gogol and of knowing  of the intention to set up a printing press’ under nicholas i '),\n",
       " Document(metadata={'source': 'C:\\\\Users\\\\Shaheer\\\\Desktop\\\\Cogent-Labs-Assessment\\\\Task-1\\\\crime-and-punishment.pdf', 'page': 2}, page_content=' free ebooks at planet ebookcomthat ‘stern and just man’ as maurice baring calls him this  was enough and he was condemned to death after eight  months’ imprisonment he was with twentyone others tak  en out to the semyonovsky square to be shot writing to his  brother mihail dostoevsky says ‘they snapped words over  our heads and they made us put on the white shirts worn by  persons condemned to death thereupon we were bound in  threes to stakes to suffer execution being the third in the  row i concluded i had only a few minutes of life before me  i thought of you and your dear ones and i contrived to kiss  plestcheiev and dourov who were next to me and to bid  them farewell suddenly the troops beat a tattoo we were  unbound brought back upon the scaffold and informed  that his majesty had spared us our lives’ the sentence was  commuted to hard labour one of the prisoners grigoryev went mad as soon as he  was untied and never regained his sanity the intense suffering of this experience left a lasting  stamp on dostoevsky’s mind though his religious temper  led him in the end to accept every suffering with resignation  and to regard it as a blessing in his own case he constantly  recurs to the subject in his writings he describes the awful  agony of the condemned man and insists on the cruelty of  inflicting such torture then followed four years of penal  servitude spent in the company of common criminals in  siberia where he began the ‘dead house’ and some years  of service in a disciplinary battalion he had shown signs of some obscure nervous disease be  fore his arrest and this now developed into violent attacks of '),\n",
       " Document(metadata={'source': 'C:\\\\Users\\\\Shaheer\\\\Desktop\\\\Cogent-Labs-Assessment\\\\Task-1\\\\crime-and-punishment.pdf', 'page': 3}, page_content='crime and punishment epilepsy from which he suffered for the rest of his life the  fits occurred three or four times a year and were more fre  quent in periods of great strain in 1859 he was allowed to  return to russia he started a journal— ‘vremya’ which was  forbidden by the censorship through a misunderstanding  in 1864 he lost his first wife and his brother mihail he was  in terrible poverty yet he took upon himself the payment  of his brother’s debts he started another journal—‘the ep  och’ which within a few months was also prohibited he  was weighed down by debt his brother’s family was depen  dent on him he was forced to write at heartbreaking speed  and is said never to have corrected his work the later years  of his life were much softened by the tenderness and devo  tion of his second wife in june 1880 he made his famous speech at the unveil  ing of the monument to pushkin in moscow and he was  received with extraordinary demonstrations of love and  honour a few months later dostoevsky died he was followed to  the grave by a vast multitude of mourners who ‘gave the  hapless man the funeral of a king’ he is still probably the  most widely read writer in russia in the words of a russian critic who seeks to explain the  feeling inspired by dostoevsky ‘he was one of ourselves a  man of our blood and our bone but one who has suffered  and has seen so much more deeply than we have his insight  impresses us as wisdom … that wisdom of the heart which  we seek that we may learn from it how to live all his other  gifts came to him from nature this he won for himself and '),\n",
       " Document(metadata={'source': 'C:\\\\Users\\\\Shaheer\\\\Desktop\\\\Cogent-Labs-Assessment\\\\Task-1\\\\crime-and-punishment.pdf', 'page': 4}, page_content=' free ebooks at planet ebookcomthrough it he became great’')]"
      ]
     },
     "execution_count": 77,
     "metadata": {},
     "output_type": "execute_result"
    }
   ],
   "source": [
    "book_text[:5] "
   ]
  },
  {
   "cell_type": "code",
   "execution_count": 59,
   "metadata": {},
   "outputs": [
    {
     "name": "stdout",
     "output_type": "stream",
     "text": [
      "total documents created from book: 767\n"
     ]
    }
   ],
   "source": [
    "print('total documents created from book:',len(book_text)) "
   ]
  },
  {
   "cell_type": "markdown",
   "metadata": {},
   "source": [
    "### Converting the Documents into Chunks"
   ]
  },
  {
   "cell_type": "code",
   "execution_count": 60,
   "metadata": {},
   "outputs": [],
   "source": [
    "# RecursiveCharacterTextSplitter is used as it breaks long text into coherent, manageable chunks.\n",
    "splitter = RecursiveCharacterTextSplitter(\n",
    "    chunk_size=4096,\n",
    "    chunk_overlap=500,\n",
    "    length_function=len\n",
    ")"
   ]
  },
  {
   "cell_type": "code",
   "execution_count": 61,
   "metadata": {},
   "outputs": [],
   "source": [
    "# Split the text into chunks\n",
    "chunks = splitter.split_documents(book_text)"
   ]
  },
  {
   "cell_type": "code",
   "execution_count": 76,
   "metadata": {},
   "outputs": [
    {
     "data": {
      "text/plain": [
       "[Document(metadata={'source': 'C:\\\\Users\\\\Shaheer\\\\Desktop\\\\Cogent-Labs-Assessment\\\\Task-1\\\\crime-and-punishment.pdf', 'page': 0}, page_content='download free ebooks of classic literature books and  novels at planet ebook subscribe to our free ebooks blog  and email newslettercrime and punishment by fyodor dostoevsky'),\n",
       " Document(metadata={'source': 'C:\\\\Users\\\\Shaheer\\\\Desktop\\\\Cogent-Labs-Assessment\\\\Task-1\\\\crime-and-punishment.pdf', 'page': 1}, page_content='crime and punishment translator’s preface a few words about dostoevsky himself may help the eng  lish reader to understand his work dostoevsky was the son of a doctor his parents were  very hard working and deeply religious people but so poor  that they lived with their five children in only two rooms  the father and mother spent their evenings in reading aloud  to their children generally from books of a serious charac  ter though always sickly and delicate dostoevsky came out  third in the final examination of the petersburg school of  engineering there he had already begun his first work  ‘poor folk’ this story was published by the poet nekrassov in his  review and was received with acclamations the shy un  known youth found himself instantly something of a  celebrity a brilliant and successful career seemed to open  before him but those hopes were soon dashed in 1849 he  was arrested though neither by temperament nor conviction a revolu  tionist dostoevsky was one of a little group of young men  who met together to read fourier and proudhon he was ac  cused of ‘taking part in conversations against the censorship  of reading a letter from byelinsky to gogol and of knowing  of the intention to set up a printing press’ under nicholas i'),\n",
       " Document(metadata={'source': 'C:\\\\Users\\\\Shaheer\\\\Desktop\\\\Cogent-Labs-Assessment\\\\Task-1\\\\crime-and-punishment.pdf', 'page': 2}, page_content='free ebooks at planet ebookcomthat ‘stern and just man’ as maurice baring calls him this  was enough and he was condemned to death after eight  months’ imprisonment he was with twentyone others tak  en out to the semyonovsky square to be shot writing to his  brother mihail dostoevsky says ‘they snapped words over  our heads and they made us put on the white shirts worn by  persons condemned to death thereupon we were bound in  threes to stakes to suffer execution being the third in the  row i concluded i had only a few minutes of life before me  i thought of you and your dear ones and i contrived to kiss  plestcheiev and dourov who were next to me and to bid  them farewell suddenly the troops beat a tattoo we were  unbound brought back upon the scaffold and informed  that his majesty had spared us our lives’ the sentence was  commuted to hard labour one of the prisoners grigoryev went mad as soon as he  was untied and never regained his sanity the intense suffering of this experience left a lasting  stamp on dostoevsky’s mind though his religious temper  led him in the end to accept every suffering with resignation  and to regard it as a blessing in his own case he constantly  recurs to the subject in his writings he describes the awful  agony of the condemned man and insists on the cruelty of  inflicting such torture then followed four years of penal  servitude spent in the company of common criminals in  siberia where he began the ‘dead house’ and some years  of service in a disciplinary battalion he had shown signs of some obscure nervous disease be  fore his arrest and this now developed into violent attacks of'),\n",
       " Document(metadata={'source': 'C:\\\\Users\\\\Shaheer\\\\Desktop\\\\Cogent-Labs-Assessment\\\\Task-1\\\\crime-and-punishment.pdf', 'page': 3}, page_content='crime and punishment epilepsy from which he suffered for the rest of his life the  fits occurred three or four times a year and were more fre  quent in periods of great strain in 1859 he was allowed to  return to russia he started a journal— ‘vremya’ which was  forbidden by the censorship through a misunderstanding  in 1864 he lost his first wife and his brother mihail he was  in terrible poverty yet he took upon himself the payment  of his brother’s debts he started another journal—‘the ep  och’ which within a few months was also prohibited he  was weighed down by debt his brother’s family was depen  dent on him he was forced to write at heartbreaking speed  and is said never to have corrected his work the later years  of his life were much softened by the tenderness and devo  tion of his second wife in june 1880 he made his famous speech at the unveil  ing of the monument to pushkin in moscow and he was  received with extraordinary demonstrations of love and  honour a few months later dostoevsky died he was followed to  the grave by a vast multitude of mourners who ‘gave the  hapless man the funeral of a king’ he is still probably the  most widely read writer in russia in the words of a russian critic who seeks to explain the  feeling inspired by dostoevsky ‘he was one of ourselves a  man of our blood and our bone but one who has suffered  and has seen so much more deeply than we have his insight  impresses us as wisdom … that wisdom of the heart which  we seek that we may learn from it how to live all his other  gifts came to him from nature this he won for himself and'),\n",
       " Document(metadata={'source': 'C:\\\\Users\\\\Shaheer\\\\Desktop\\\\Cogent-Labs-Assessment\\\\Task-1\\\\crime-and-punishment.pdf', 'page': 4}, page_content='free ebooks at planet ebookcomthrough it he became great’')]"
      ]
     },
     "execution_count": 76,
     "metadata": {},
     "output_type": "execute_result"
    }
   ],
   "source": [
    "#Printing the chunks\n",
    "chunks[:5]"
   ]
  },
  {
   "cell_type": "markdown",
   "metadata": {},
   "source": [
    "### Map Reduce approach to Summarize the Book"
   ]
  },
  {
   "cell_type": "code",
   "execution_count": 68,
   "metadata": {},
   "outputs": [],
   "source": [
    "#LLM\n",
    "llm = ChatOpenAI(temperature=0)\n",
    "# Map\n",
    "map_template = \"\"\"The following is a set of documents\n",
    "{docs}\n",
    "Based on this list of docs, please identify the main themes \n",
    "Helpful Answer:\"\"\"\n",
    "map_prompt = PromptTemplate.from_template(map_template)\n",
    "map_chain = LLMChain(llm=llm, prompt=map_prompt)"
   ]
  },
  {
   "cell_type": "code",
   "execution_count": 69,
   "metadata": {},
   "outputs": [],
   "source": [
    "# Reduce\n",
    "reduce_template = \"\"\"The following is a set of summaries extracted from each chapter of the book :\n",
    "{docs}\n",
    "Please distill these into a comprehensive final summary, ensuring that all the main themes are interconnected and logically organized. The summary should include:\n",
    "\n",
    "1. A brief overview of each chapter, highlighting the main ideas, key points, and significant arguments.\n",
    "2. Identification and explanation of the primary themes and concepts discussed throughout the book, with examples and explanations.\n",
    "3. A summary of the author's perspective and point of view, including main arguments and unique insights.\n",
    "4. A critical analysis of the book's content, discussing strengths and weaknesses of the arguments presented.\n",
    "5. Key takeaways and reflections on the overall message and relevance to the reader.\n",
    "\n",
    "Present the summary as a detailed narrative, highlighting the key points in a cohesive manner. Aim for a summary length of 6-7 pages.\n",
    "\n",
    "Helpful Answer:\"\"\"\n",
    "reduce_prompt = PromptTemplate.from_template(reduce_template)"
   ]
  },
  {
   "cell_type": "code",
   "execution_count": 70,
   "metadata": {},
   "outputs": [],
   "source": [
    "# Run chain\n",
    "reduce_chain = LLMChain(llm=llm, prompt=reduce_prompt)\n",
    "\n",
    "# Takes a list of documents, combines them into a single string, and passes this to an LLMChain\n",
    "combine_documents_chain = StuffDocumentsChain(\n",
    "    llm_chain=reduce_chain, document_variable_name=\"docs\"\n",
    ")\n",
    "\n",
    "# Combines and iteratively reduces the mapped documents\n",
    "reduce_documents_chain = ReduceDocumentsChain(\n",
    "    # This is final chain that is called.\n",
    "    combine_documents_chain=combine_documents_chain,\n",
    "    # If documents exceed context for `StuffDocumentsChain`\n",
    "    collapse_documents_chain=combine_documents_chain,\n",
    "    # The maximum number of tokens to group documents into.\n",
    "    token_max=4000,\n",
    ")"
   ]
  },
  {
   "cell_type": "code",
   "execution_count": 71,
   "metadata": {},
   "outputs": [],
   "source": [
    "# Combining documents by mapping a chain over them, then combining results\n",
    "map_reduce_chain = MapReduceDocumentsChain(\n",
    "    # Map chain\n",
    "    llm_chain=map_chain,\n",
    "    # Reduce chain\n",
    "    reduce_documents_chain=reduce_documents_chain,\n",
    "    # The variable name in the llm_chain to put the documents in\n",
    "    document_variable_name=\"docs\",\n",
    "    # Return the results of the map steps in the output\n",
    "    return_intermediate_steps=False,\n",
    ")"
   ]
  },
  {
   "cell_type": "code",
   "execution_count": 72,
   "metadata": {},
   "outputs": [],
   "source": [
    "result = map_reduce_chain.invoke(chunks)"
   ]
  },
  {
   "cell_type": "code",
   "execution_count": null,
   "metadata": {},
   "outputs": [
    {
     "name": "stdout",
     "output_type": "stream",
     "text": [
      "In the interconnected world of the provided documents, a rich tapestry of themes emerges, weaving together the complexities of human relationships, the consequences of actions, and the depths of emotional turmoil. At the heart of this narrative lies the theme of crime and punishment, where characters grapple with the weight of their actions and the repercussions that follow. This theme is intertwined with the exploration of guilt, remorse, and redemption, as individuals navigate the moral dilemmas that arise from their choices.\n",
      "\n",
      "The narrative begins with a focus on family relationships and love, as seen in the heartfelt letter from Pulcheria Raskolnikov to her son Rodya. The deep love and concern expressed in the letter highlight the strong bond between family members, setting the stage for the exploration of familial dynamics and conflicts that unfold throughout the text. Pulcheria Raskolnikov's mention of praying and faith in the mercy of their creator introduces themes of faith and spirituality, adding a layer of depth to the characters' motivations and beliefs.\n",
      "\n",
      "As the narrative progresses, themes of financial struggles and emotional turmoil come to the forefront, shaping the characters' decisions and actions. The mention of calculating the cost of a journey and the possibility of sending money to Rodya hint at the importance of money in the characters' lives and the challenges they face in navigating financial hardships. Rodya's emotional response to the letter, with tears and a distorted face, suggests a theme of emotional turmoil and inner conflict within the characters, setting the stage for further exploration of their psychological struggles.\n",
      "\n",
      "The theme of poverty is a recurring motif throughout the documents, highlighting the harsh realities faced by individuals grappling with financial struggles, lack of resources, and the daily challenges of making ends meet. This theme is intricately connected to themes of desperation, as characters navigate through difficult circumstances, seeking solutions and grappling with the weight of their situations. The documents shed light on the impact of poverty on individuals and families, showcasing the resilience, sacrifices, and hardships endured in the face of economic adversity.\n",
      "\n",
      "Social interactions and relationships play a significant role in shaping the narrative, as the dynamics between Raskolnikov and other characters such as Nastasya, the landlady, and Razumihin reveal the complexities of human connections. Themes of friendship and loyalty emerge as Razumihin's unwavering dedication to finding and helping Raskolnikov underscores the importance of companionship and support in times of need. The interactions between characters also touch upon themes of deception, manipulation, and power dynamics, showcasing the intricate web of relationships that define the social landscape of the story.\n",
      "\n",
      "The theme of guilt emerges as a central focus in the narrative, as the protagonist grapples with the weight of his actions and the moral dilemmas he faces. The protagonist's inner turmoil and sense of suffocation reflect a deep sense of guilt and remorse, driving the narrative forward with a sense of urgency and desperation. The theme of isolation further underscores the protagonist's internal struggles, highlighting the alienation and loneliness he experiences as he navigates the consequences of his choices.\n",
      "\n",
      "As the narrative unfolds, themes of social class and inequality come into play, shedding light on the societal pressures and expectations that shape the characters' lives. The contrast between poverty and wealth, as well as the struggles of individuals from different social backgrounds, adds a layer of complexity to the narrative, highlighting the disparities and injustices present in the characters' world. The theme of deception and manipulation further complicates the characters' relationships, as they navigate the complexities of trust and betrayal in their interactions.\n",
      "\n",
      "Themes of mental health and inner turmoil come to the forefront, shedding light on the complexities of the human psyche and the struggles individuals face in navigating their emotions. The exploration of fear, anxiety, and paranoia adds layers of tension to the story, as characters grapple with their inner demons and confront the shadows that lurk within. The protagonist's journey towards self-discovery and self-awareness reflects a deeper exploration of the human experience, as he grapples with his own inner demons and confronts the consequences of his actions.\n",
      "\n",
      "In the midst of the turmoil and conflict, themes of friendship, loyalty, and support weave a thread of connection between characters, showcasing the importance of human relationships in times of turmoil. As characters navigate the twists and turns of their journeys, they are confronted with moments of decision-making, self-reflection, and growth, leading to transformations that shape their paths forward.\n",
      "\n",
      "Overall, the interconnected themes of identity, relationships, mental health, crime, and punishment weave a rich tapestry of human experience and emotion. Through the struggles and triumphs of the characters, the narrative explores the complexities of human nature, the power of friendship and loyalty, and the enduring quest for truth and redemption. As the story unfolds, the themes converge and intertwine, creating a compelling narrative that resonates with readers and leaves a lasting impact on the soul.\n"
     ]
    }
   ],
   "source": [
    "print(result[\"output_text\"])"
   ]
  },
  {
   "cell_type": "markdown",
   "metadata": {},
   "source": [
    "### Converting the Summary into PDF"
   ]
  },
  {
   "cell_type": "code",
   "execution_count": 74,
   "metadata": {},
   "outputs": [
    {
     "data": {
      "text/plain": [
       "''"
      ]
     },
     "execution_count": 74,
     "metadata": {},
     "output_type": "execute_result"
    }
   ],
   "source": [
    "# The generated book summary\n",
    "summary = result[\"output_text\"]\n",
    "book_title = \"Crime and Punishment\"\n",
    "author_name = \"Fyodor Dostoevsky\"\n",
    "\n",
    "# Create instance of FPDF class\n",
    "pdf = FPDF()\n",
    "\n",
    "# Function to draw borders on the entire page\n",
    "def draw_borders():\n",
    "    pdf.set_line_width(0.5)\n",
    "    pdf.rect(10, 10, 190, 277)  # Draw a rectangle (borders) from (10,10) to (200,287)\n",
    "\n",
    "# Add a page and draw borders\n",
    "pdf.add_page()\n",
    "draw_borders()\n",
    "\n",
    "# Set title font and size\n",
    "pdf.set_font('Arial', 'B', 16)\n",
    "pdf.cell(0, 10, 'Book Summary', 0, 1, 'C')\n",
    "\n",
    "# Add a line break\n",
    "pdf.ln(10)\n",
    "\n",
    "# Add book title\n",
    "pdf.set_font('Arial', 'B', 14)\n",
    "pdf.cell(0, 10, f'Title: {book_title}', 0, 1, 'L')\n",
    "\n",
    "# Add author name\n",
    "pdf.set_font('Arial', 'B', 14)\n",
    "pdf.cell(0, 10, f'Author: {author_name}', 0, 1, 'L')\n",
    "\n",
    "# Add another line break\n",
    "pdf.ln(10)\n",
    "\n",
    "# Set summary content font and size\n",
    "pdf.set_font('Arial', '', 13)\n",
    "\n",
    "# Split the summary into chunks that fit into one page\n",
    "lines = pdf.multi_cell(0, 10, summary, border=0, split_only=True)\n",
    "\n",
    "# Add the lines to the PDF\n",
    "for i, line in enumerate(lines):\n",
    "    if pdf.get_y() > 265:  # Check if the page end is reached\n",
    "        pdf.add_page()\n",
    "        draw_borders()\n",
    "        pdf.set_y(20)  # Reset the y position\n",
    "    pdf.multi_cell(0, 10, line, border=0)\n",
    "\n",
    "# Add footer to the last page\n",
    "pdf.set_y(-15)\n",
    "pdf.set_font('Arial', 'I', 8)\n",
    "pdf.cell(0, 10, f'Page {pdf.page_no()}', 0, 0, 'C')\n",
    "\n",
    "# Output the PDF to a file\n",
    "output_pdf_path = \"Book-Summary-Crime-and-Punishment.pdf\"\n",
    "pdf.output(output_pdf_path)"
   ]
  }
 ],
 "metadata": {
  "kernelspec": {
   "display_name": "Python 3",
   "language": "python",
   "name": "python3"
  },
  "language_info": {
   "codemirror_mode": {
    "name": "ipython",
    "version": 3
   },
   "file_extension": ".py",
   "mimetype": "text/x-python",
   "name": "python",
   "nbconvert_exporter": "python",
   "pygments_lexer": "ipython3",
   "version": "3.12.2"
  }
 },
 "nbformat": 4,
 "nbformat_minor": 2
}
